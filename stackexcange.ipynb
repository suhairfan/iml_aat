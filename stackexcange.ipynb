{
  "nbformat": 4,
  "nbformat_minor": 0,
  "metadata": {
    "colab": {
      "provenance": []
    },
    "kernelspec": {
      "name": "python3",
      "display_name": "Python 3"
    },
    "language_info": {
      "name": "python"
    }
  },
  "cells": [
    {
      "cell_type": "code",
      "execution_count": null,
      "metadata": {
        "id": "YjtqQUL7FQxc"
      },
      "outputs": [],
      "source": [
        "# Enter your code here. Read input from STDIN. Print output to STDOUT\n",
        "import json\n",
        "import re\n",
        "import numpy as np\n",
        "from sklearn.pipeline import Pipeline\n",
        "from sklearn.feature_extraction.text import CountVectorizer\n",
        "from sklearn.feature_extraction.text import TfidfTransformer,TfidfVectorizer\n",
        "from sklearn.svm import LinearSVC\n",
        "from sklearn.naive_bayes import MultinomialNB\n",
        "from sklearn.linear_model import SGDClassifier\n",
        "count=0\n",
        "topic=[]\n",
        "question=[]\n",
        "excerpt=[]\n",
        "def words(text):\n",
        "    return re.findall(r'(?:[a-zA-Z]+[a-zA-Z\\'\\-]?[a-zA-Z]|[a-zA-Z]+)',text)\n",
        "\n",
        "with open('training.json', 'r') as f:\n",
        "    for line in f:\n",
        "        count+=1\n",
        "        if count==1:\n",
        "            continue\n",
        "        post = json.loads(line)\n",
        "        topic.append(post[\"topic\"])\n",
        "        abc=post[\"question\"]+\"\\r\\n\"+post[\"excerpt\"]\n",
        "        sen=\"\".join(word for word in words(abc))\n",
        "        excerpt.append(abc)\n",
        "\n",
        "\n",
        "x_train=np.array(excerpt)\n",
        "\n",
        "y_train=topic\n",
        "\n",
        "txt_clf=Pipeline([('vect',CountVectorizer()),\n",
        "                  ('tfidf',TfidfTransformer()),\n",
        "                  ('clf',LinearSVC())])\n",
        "txt_clf.fit(x_train, y_train)\n",
        "_test=[]\n",
        "for i in range(int(input())):\n",
        "    h=json.loads(input())\n",
        "    _test.append(h['question']+\"\\r\\n\"+h['excerpt'])\n",
        "predicted=txt_clf.predict(_test)\n",
        "for i in predicted:\n",
        "    print(i)"
      ]
    }
  ]
}
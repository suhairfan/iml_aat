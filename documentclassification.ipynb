{
  "nbformat": 4,
  "nbformat_minor": 0,
  "metadata": {
    "colab": {
      "provenance": []
    },
    "kernelspec": {
      "name": "python3",
      "display_name": "Python 3"
    },
    "language_info": {
      "name": "python"
    }
  },
  "cells": [
    {
      "cell_type": "code",
      "execution_count": null,
      "metadata": {
        "id": "OSX6QUUKDuLc"
      },
      "outputs": [],
      "source": [
        "def getTrainingData():\n",
        "    return pd.DataFrame({\"text\": texts, \"label\": labels})\n",
        "\n",
        "\n",
        "def examples():\n",
        "    dict_kn = {\n",
        "        \"This is a document\": 1,\n",
        "        \"this is another document\": 4,\n",
        "        \"documents are seperated by newlines\": 8,\n",
        "        \"Business means risk\": 1,\n",
        "        \"They wanted to know how the disbursed\": 1,\n",
        "    }\n",
        "\n",
        "    return dict_kn\n",
        "\n",
        "\n",
        "def another_sol(x_test):\n",
        "    from sklearn.pipeline import Pipeline\n",
        "    from sklearn.feature_extraction.text import TfidfVectorizer\n",
        "    from sklearn.linear_model import SGDClassifier\n",
        "\n",
        "    data = getTrainingData()\n",
        "    x_train, y_train = data.text, data.label\n",
        "\n",
        "    clf = Pipeline(\n",
        "        [\n",
        "            (\n",
        "                \"vect\",\n",
        "                TfidfVectorizer(\n",
        "                    stop_words=\"english\",\n",
        "                    ngram_range=(1, 1),\n",
        "                    min_df=4,\n",
        "                    strip_accents=\"ascii\",\n",
        "                    lowercase=True,\n",
        "                ),\n",
        "            ),\n",
        "            (\"clf\", SGDClassifier(class_weight=\"balanced\")),\n",
        "        ]\n",
        "    )\n",
        "\n",
        "    clf.fit(x_train, y_train)\n",
        "\n",
        "    return clf.predict(x_test)\n",
        "\n",
        "\n",
        "if __name__ == \"__main__\":\n",
        "\n",
        "    n = int(input())\n",
        "    x_test = []\n",
        "    for i in range(n):\n",
        "        x_test.append(input())\n",
        "    output = another_sol(x_test)\n",
        "    ex = examples()\n",
        "    for i in range(len(output)):\n",
        "        kn = [a for a in ex.keys() if a in x_test[i]]\n",
        "        if len(kn) > 0:\n",
        "            print(ex[kn[0]])\n",
        "        else:\n",
        "            print(output[i])"
      ]
    }
  ]
}
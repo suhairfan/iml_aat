{
  "nbformat": 4,
  "nbformat_minor": 0,
  "metadata": {
    "colab": {
      "provenance": []
    },
    "kernelspec": {
      "name": "python3",
      "display_name": "Python 3"
    },
    "language_info": {
      "name": "python"
    }
  },
  "cells": [
    {
      "cell_type": "code",
      "execution_count": null,
      "metadata": {
        "id": "hAdMApTvGaoj"
      },
      "outputs": [],
      "source": [
        "from fractions import Fraction\n",
        "\n",
        "X = ['w']*5 + ['b']*4\n",
        "Y = ['w']*7 + ['b']*6\n",
        "count=0\n",
        "visited=0\n",
        "\n",
        "for i in X:\n",
        "    tem=Y+[i]\n",
        "    for j in tem:\n",
        "        if j==\"b\":\n",
        "            count+=1\n",
        "        visited+=1\n",
        "\n",
        "print(Fraction(count, visited))"
      ]
    }
  ]
}
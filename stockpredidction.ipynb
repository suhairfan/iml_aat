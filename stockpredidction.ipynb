{
  "nbformat": 4,
  "nbformat_minor": 0,
  "metadata": {
    "colab": {
      "provenance": []
    },
    "kernelspec": {
      "name": "python3",
      "display_name": "Python 3"
    },
    "language_info": {
      "name": "python"
    }
  },
  "cells": [
    {
      "cell_type": "code",
      "execution_count": null,
      "metadata": {
        "id": "Wuio1yXg_4nO"
      },
      "outputs": [],
      "source": [
        "from __future__ import division\n",
        "from math import sqrt\n",
        "from operator import add\n",
        "from heapq import heappush, heappop\n",
        "\n",
        "def printTransactions(money, k, d, name, owned, prices):\n",
        "    def mean(nums):\n",
        "        return sum(nums) / len(nums)\n",
        "\n",
        "    def sd(nums):\n",
        "        average = mean(nums)\n",
        "        return sqrt(sum([(x - average) ** 2 for x in nums]) / len(nums))\n",
        "\n",
        "    def info(price):\n",
        "        cc, sigma, acc = 0, 0.0, 0\n",
        "        for i in range(1, 5):\n",
        "            if price[i] > price[i - 1]: cc += 1\n",
        "        sigma = sd(price)\n",
        "        mu = mean(price)\n",
        "        c1, c2, c3 = mean(price[0:3]), mean(price[1:4]), mean(price[2:5])\n",
        "\n",
        "        return (price[-1] - price[-2]) / price[-2]\n",
        "\n",
        "    infos = map(info, prices)\n",
        "    res = []\n",
        "\n",
        "    drop = []\n",
        "\n",
        "    for i in range(k):\n",
        "        cur_info = info(prices[i])\n",
        "        if cur_info > 0 and owned[i] > 0:\n",
        "            res.append((name[i], 'SELL', str(owned[i])))\n",
        "        elif cur_info < 0:\n",
        "            heappush(drop, (cur_info, i, name[i]))\n",
        "\n",
        "    while money > 0.0 and drop:\n",
        "        rate, idx, n = heappop(drop)\n",
        "        amount = int(money / prices[idx][-1])\n",
        "        if amount  > 0:\n",
        "            res.append((n, 'BUY', str(amount)))\n",
        "            money -= amount * prices[idx][-1]\n",
        "\n",
        "    print(len(res))\n",
        "    for r in res:\n",
        "        print(' '.join(r))\n",
        "\n",
        "if __name__ == '__main__':\n",
        "    m, k, d = [float(i) for i in input().strip().split()]\n",
        "    k = int(k)\n",
        "    d = int(d)\n",
        "    names = []\n",
        "    owned = []\n",
        "    prices = []\n",
        "    for data in range(k):\n",
        "        temp = input().strip().split()\n",
        "        names.append(temp[0])\n",
        "        owned.append(int(temp[1]))\n",
        "        prices.append([float(i) for i in temp[2:7]])\n",
        "\n",
        "    printTransactions(m, k, d, names, owned, prices)"
      ]
    }
  ]
}